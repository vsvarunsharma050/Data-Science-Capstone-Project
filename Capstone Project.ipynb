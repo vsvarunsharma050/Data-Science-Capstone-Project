{
 "cells": [
  {
   "cell_type": "code",
   "execution_count": 1,
   "id": "b46d8b88",
   "metadata": {},
   "outputs": [],
   "source": [
    "import numpy as np\n",
    "import pandas as pd\n",
    "import matplotlib.pyplot as plt\n",
    "import seaborn as sns"
   ]
  },
  {
   "cell_type": "code",
   "execution_count": 2,
   "id": "f0186cbf",
   "metadata": {},
   "outputs": [
    {
     "data": {
      "text/html": [
       "<div>\n",
       "<style scoped>\n",
       "    .dataframe tbody tr th:only-of-type {\n",
       "        vertical-align: middle;\n",
       "    }\n",
       "\n",
       "    .dataframe tbody tr th {\n",
       "        vertical-align: top;\n",
       "    }\n",
       "\n",
       "    .dataframe thead th {\n",
       "        text-align: right;\n",
       "    }\n",
       "</style>\n",
       "<table border=\"1\" class=\"dataframe\">\n",
       "  <thead>\n",
       "    <tr style=\"text-align: right;\">\n",
       "      <th></th>\n",
       "      <th>name</th>\n",
       "      <th>year</th>\n",
       "      <th>selling_price</th>\n",
       "      <th>km_driven</th>\n",
       "      <th>fuel</th>\n",
       "      <th>seller_type</th>\n",
       "      <th>transmission</th>\n",
       "      <th>owner</th>\n",
       "    </tr>\n",
       "  </thead>\n",
       "  <tbody>\n",
       "    <tr>\n",
       "      <th>0</th>\n",
       "      <td>Maruti 800 AC</td>\n",
       "      <td>2007</td>\n",
       "      <td>60000</td>\n",
       "      <td>70000</td>\n",
       "      <td>Petrol</td>\n",
       "      <td>Individual</td>\n",
       "      <td>Manual</td>\n",
       "      <td>First Owner</td>\n",
       "    </tr>\n",
       "    <tr>\n",
       "      <th>1</th>\n",
       "      <td>Maruti Wagon R LXI Minor</td>\n",
       "      <td>2007</td>\n",
       "      <td>135000</td>\n",
       "      <td>50000</td>\n",
       "      <td>Petrol</td>\n",
       "      <td>Individual</td>\n",
       "      <td>Manual</td>\n",
       "      <td>First Owner</td>\n",
       "    </tr>\n",
       "    <tr>\n",
       "      <th>2</th>\n",
       "      <td>Hyundai Verna 1.6 SX</td>\n",
       "      <td>2012</td>\n",
       "      <td>600000</td>\n",
       "      <td>100000</td>\n",
       "      <td>Diesel</td>\n",
       "      <td>Individual</td>\n",
       "      <td>Manual</td>\n",
       "      <td>First Owner</td>\n",
       "    </tr>\n",
       "    <tr>\n",
       "      <th>3</th>\n",
       "      <td>Datsun RediGO T Option</td>\n",
       "      <td>2017</td>\n",
       "      <td>250000</td>\n",
       "      <td>46000</td>\n",
       "      <td>Petrol</td>\n",
       "      <td>Individual</td>\n",
       "      <td>Manual</td>\n",
       "      <td>First Owner</td>\n",
       "    </tr>\n",
       "    <tr>\n",
       "      <th>4</th>\n",
       "      <td>Honda Amaze VX i-DTEC</td>\n",
       "      <td>2014</td>\n",
       "      <td>450000</td>\n",
       "      <td>141000</td>\n",
       "      <td>Diesel</td>\n",
       "      <td>Individual</td>\n",
       "      <td>Manual</td>\n",
       "      <td>Second Owner</td>\n",
       "    </tr>\n",
       "  </tbody>\n",
       "</table>\n",
       "</div>"
      ],
      "text/plain": [
       "                       name  year  selling_price  km_driven    fuel  \\\n",
       "0             Maruti 800 AC  2007          60000      70000  Petrol   \n",
       "1  Maruti Wagon R LXI Minor  2007         135000      50000  Petrol   \n",
       "2      Hyundai Verna 1.6 SX  2012         600000     100000  Diesel   \n",
       "3    Datsun RediGO T Option  2017         250000      46000  Petrol   \n",
       "4     Honda Amaze VX i-DTEC  2014         450000     141000  Diesel   \n",
       "\n",
       "  seller_type transmission         owner  \n",
       "0  Individual       Manual   First Owner  \n",
       "1  Individual       Manual   First Owner  \n",
       "2  Individual       Manual   First Owner  \n",
       "3  Individual       Manual   First Owner  \n",
       "4  Individual       Manual  Second Owner  "
      ]
     },
     "execution_count": 2,
     "metadata": {},
     "output_type": "execute_result"
    }
   ],
   "source": [
    "df = pd.read_csv('CAR DETAILS.csv')\n",
    "df.head()"
   ]
  },
  {
   "cell_type": "code",
   "execution_count": 3,
   "id": "8297c94b",
   "metadata": {},
   "outputs": [
    {
     "data": {
      "text/plain": [
       "(4340, 8)"
      ]
     },
     "execution_count": 3,
     "metadata": {},
     "output_type": "execute_result"
    }
   ],
   "source": [
    "df.shape"
   ]
  },
  {
   "cell_type": "code",
   "execution_count": 4,
   "id": "f449d68e",
   "metadata": {},
   "outputs": [
    {
     "data": {
      "text/plain": [
       "name             0\n",
       "year             0\n",
       "selling_price    0\n",
       "km_driven        0\n",
       "fuel             0\n",
       "seller_type      0\n",
       "transmission     0\n",
       "owner            0\n",
       "dtype: int64"
      ]
     },
     "execution_count": 4,
     "metadata": {},
     "output_type": "execute_result"
    }
   ],
   "source": [
    "df.isnull().sum()"
   ]
  },
  {
   "cell_type": "code",
   "execution_count": 5,
   "id": "d84a8721",
   "metadata": {},
   "outputs": [
    {
     "data": {
      "text/plain": [
       "name             object\n",
       "year              int64\n",
       "selling_price     int64\n",
       "km_driven         int64\n",
       "fuel             object\n",
       "seller_type      object\n",
       "transmission     object\n",
       "owner            object\n",
       "dtype: object"
      ]
     },
     "execution_count": 5,
     "metadata": {},
     "output_type": "execute_result"
    }
   ],
   "source": [
    "df.dtypes"
   ]
  },
  {
   "cell_type": "code",
   "execution_count": 6,
   "id": "55a4a246",
   "metadata": {},
   "outputs": [
    {
     "data": {
      "text/html": [
       "<div>\n",
       "<style scoped>\n",
       "    .dataframe tbody tr th:only-of-type {\n",
       "        vertical-align: middle;\n",
       "    }\n",
       "\n",
       "    .dataframe tbody tr th {\n",
       "        vertical-align: top;\n",
       "    }\n",
       "\n",
       "    .dataframe thead th {\n",
       "        text-align: right;\n",
       "    }\n",
       "</style>\n",
       "<table border=\"1\" class=\"dataframe\">\n",
       "  <thead>\n",
       "    <tr style=\"text-align: right;\">\n",
       "      <th></th>\n",
       "      <th>year</th>\n",
       "      <th>selling_price</th>\n",
       "      <th>km_driven</th>\n",
       "    </tr>\n",
       "  </thead>\n",
       "  <tbody>\n",
       "    <tr>\n",
       "      <th>count</th>\n",
       "      <td>4340.000000</td>\n",
       "      <td>4.340000e+03</td>\n",
       "      <td>4340.000000</td>\n",
       "    </tr>\n",
       "    <tr>\n",
       "      <th>mean</th>\n",
       "      <td>2013.090783</td>\n",
       "      <td>5.041273e+05</td>\n",
       "      <td>66215.777419</td>\n",
       "    </tr>\n",
       "    <tr>\n",
       "      <th>std</th>\n",
       "      <td>4.215344</td>\n",
       "      <td>5.785487e+05</td>\n",
       "      <td>46644.102194</td>\n",
       "    </tr>\n",
       "    <tr>\n",
       "      <th>min</th>\n",
       "      <td>1992.000000</td>\n",
       "      <td>2.000000e+04</td>\n",
       "      <td>1.000000</td>\n",
       "    </tr>\n",
       "    <tr>\n",
       "      <th>25%</th>\n",
       "      <td>2011.000000</td>\n",
       "      <td>2.087498e+05</td>\n",
       "      <td>35000.000000</td>\n",
       "    </tr>\n",
       "    <tr>\n",
       "      <th>50%</th>\n",
       "      <td>2014.000000</td>\n",
       "      <td>3.500000e+05</td>\n",
       "      <td>60000.000000</td>\n",
       "    </tr>\n",
       "    <tr>\n",
       "      <th>75%</th>\n",
       "      <td>2016.000000</td>\n",
       "      <td>6.000000e+05</td>\n",
       "      <td>90000.000000</td>\n",
       "    </tr>\n",
       "    <tr>\n",
       "      <th>max</th>\n",
       "      <td>2020.000000</td>\n",
       "      <td>8.900000e+06</td>\n",
       "      <td>806599.000000</td>\n",
       "    </tr>\n",
       "  </tbody>\n",
       "</table>\n",
       "</div>"
      ],
      "text/plain": [
       "              year  selling_price      km_driven\n",
       "count  4340.000000   4.340000e+03    4340.000000\n",
       "mean   2013.090783   5.041273e+05   66215.777419\n",
       "std       4.215344   5.785487e+05   46644.102194\n",
       "min    1992.000000   2.000000e+04       1.000000\n",
       "25%    2011.000000   2.087498e+05   35000.000000\n",
       "50%    2014.000000   3.500000e+05   60000.000000\n",
       "75%    2016.000000   6.000000e+05   90000.000000\n",
       "max    2020.000000   8.900000e+06  806599.000000"
      ]
     },
     "execution_count": 6,
     "metadata": {},
     "output_type": "execute_result"
    }
   ],
   "source": [
    "df.describe()"
   ]
  },
  {
   "cell_type": "code",
   "execution_count": 7,
   "id": "26c5a5a3",
   "metadata": {
    "scrolled": true
   },
   "outputs": [
    {
     "data": {
      "text/html": [
       "<div>\n",
       "<style scoped>\n",
       "    .dataframe tbody tr th:only-of-type {\n",
       "        vertical-align: middle;\n",
       "    }\n",
       "\n",
       "    .dataframe tbody tr th {\n",
       "        vertical-align: top;\n",
       "    }\n",
       "\n",
       "    .dataframe thead th {\n",
       "        text-align: right;\n",
       "    }\n",
       "</style>\n",
       "<table border=\"1\" class=\"dataframe\">\n",
       "  <thead>\n",
       "    <tr style=\"text-align: right;\">\n",
       "      <th></th>\n",
       "      <th>name</th>\n",
       "      <th>year</th>\n",
       "      <th>selling_price</th>\n",
       "      <th>km_driven</th>\n",
       "      <th>fuel</th>\n",
       "      <th>seller_type</th>\n",
       "      <th>transmission</th>\n",
       "      <th>owner</th>\n",
       "    </tr>\n",
       "  </thead>\n",
       "  <tbody>\n",
       "    <tr>\n",
       "      <th>13</th>\n",
       "      <td>Maruti 800 AC</td>\n",
       "      <td>2007</td>\n",
       "      <td>60000</td>\n",
       "      <td>70000</td>\n",
       "      <td>Petrol</td>\n",
       "      <td>Individual</td>\n",
       "      <td>Manual</td>\n",
       "      <td>First Owner</td>\n",
       "    </tr>\n",
       "    <tr>\n",
       "      <th>14</th>\n",
       "      <td>Maruti Wagon R LXI Minor</td>\n",
       "      <td>2007</td>\n",
       "      <td>135000</td>\n",
       "      <td>50000</td>\n",
       "      <td>Petrol</td>\n",
       "      <td>Individual</td>\n",
       "      <td>Manual</td>\n",
       "      <td>First Owner</td>\n",
       "    </tr>\n",
       "    <tr>\n",
       "      <th>15</th>\n",
       "      <td>Hyundai Verna 1.6 SX</td>\n",
       "      <td>2012</td>\n",
       "      <td>600000</td>\n",
       "      <td>100000</td>\n",
       "      <td>Diesel</td>\n",
       "      <td>Individual</td>\n",
       "      <td>Manual</td>\n",
       "      <td>First Owner</td>\n",
       "    </tr>\n",
       "    <tr>\n",
       "      <th>16</th>\n",
       "      <td>Datsun RediGO T Option</td>\n",
       "      <td>2017</td>\n",
       "      <td>250000</td>\n",
       "      <td>46000</td>\n",
       "      <td>Petrol</td>\n",
       "      <td>Individual</td>\n",
       "      <td>Manual</td>\n",
       "      <td>First Owner</td>\n",
       "    </tr>\n",
       "    <tr>\n",
       "      <th>17</th>\n",
       "      <td>Honda Amaze VX i-DTEC</td>\n",
       "      <td>2014</td>\n",
       "      <td>450000</td>\n",
       "      <td>141000</td>\n",
       "      <td>Diesel</td>\n",
       "      <td>Individual</td>\n",
       "      <td>Manual</td>\n",
       "      <td>Second Owner</td>\n",
       "    </tr>\n",
       "    <tr>\n",
       "      <th>...</th>\n",
       "      <td>...</td>\n",
       "      <td>...</td>\n",
       "      <td>...</td>\n",
       "      <td>...</td>\n",
       "      <td>...</td>\n",
       "      <td>...</td>\n",
       "      <td>...</td>\n",
       "      <td>...</td>\n",
       "    </tr>\n",
       "    <tr>\n",
       "      <th>4307</th>\n",
       "      <td>Mahindra Xylo H4</td>\n",
       "      <td>2019</td>\n",
       "      <td>599000</td>\n",
       "      <td>15000</td>\n",
       "      <td>Diesel</td>\n",
       "      <td>Individual</td>\n",
       "      <td>Manual</td>\n",
       "      <td>Third Owner</td>\n",
       "    </tr>\n",
       "    <tr>\n",
       "      <th>4308</th>\n",
       "      <td>Maruti Alto 800 LXI</td>\n",
       "      <td>2018</td>\n",
       "      <td>200000</td>\n",
       "      <td>35000</td>\n",
       "      <td>Petrol</td>\n",
       "      <td>Individual</td>\n",
       "      <td>Manual</td>\n",
       "      <td>First Owner</td>\n",
       "    </tr>\n",
       "    <tr>\n",
       "      <th>4309</th>\n",
       "      <td>Datsun GO Plus T</td>\n",
       "      <td>2017</td>\n",
       "      <td>350000</td>\n",
       "      <td>10171</td>\n",
       "      <td>Petrol</td>\n",
       "      <td>Dealer</td>\n",
       "      <td>Manual</td>\n",
       "      <td>First Owner</td>\n",
       "    </tr>\n",
       "    <tr>\n",
       "      <th>4310</th>\n",
       "      <td>Renault Duster 110PS Diesel RxL</td>\n",
       "      <td>2015</td>\n",
       "      <td>465000</td>\n",
       "      <td>41123</td>\n",
       "      <td>Diesel</td>\n",
       "      <td>Dealer</td>\n",
       "      <td>Manual</td>\n",
       "      <td>First Owner</td>\n",
       "    </tr>\n",
       "    <tr>\n",
       "      <th>4311</th>\n",
       "      <td>Toyota Camry Hybrid 2.5</td>\n",
       "      <td>2017</td>\n",
       "      <td>1900000</td>\n",
       "      <td>20118</td>\n",
       "      <td>Petrol</td>\n",
       "      <td>Dealer</td>\n",
       "      <td>Automatic</td>\n",
       "      <td>First Owner</td>\n",
       "    </tr>\n",
       "  </tbody>\n",
       "</table>\n",
       "<p>763 rows × 8 columns</p>\n",
       "</div>"
      ],
      "text/plain": [
       "                                 name  year  selling_price  km_driven    fuel  \\\n",
       "13                      Maruti 800 AC  2007          60000      70000  Petrol   \n",
       "14           Maruti Wagon R LXI Minor  2007         135000      50000  Petrol   \n",
       "15               Hyundai Verna 1.6 SX  2012         600000     100000  Diesel   \n",
       "16             Datsun RediGO T Option  2017         250000      46000  Petrol   \n",
       "17              Honda Amaze VX i-DTEC  2014         450000     141000  Diesel   \n",
       "...                               ...   ...            ...        ...     ...   \n",
       "4307                 Mahindra Xylo H4  2019         599000      15000  Diesel   \n",
       "4308              Maruti Alto 800 LXI  2018         200000      35000  Petrol   \n",
       "4309                 Datsun GO Plus T  2017         350000      10171  Petrol   \n",
       "4310  Renault Duster 110PS Diesel RxL  2015         465000      41123  Diesel   \n",
       "4311          Toyota Camry Hybrid 2.5  2017        1900000      20118  Petrol   \n",
       "\n",
       "     seller_type transmission         owner  \n",
       "13    Individual       Manual   First Owner  \n",
       "14    Individual       Manual   First Owner  \n",
       "15    Individual       Manual   First Owner  \n",
       "16    Individual       Manual   First Owner  \n",
       "17    Individual       Manual  Second Owner  \n",
       "...          ...          ...           ...  \n",
       "4307  Individual       Manual   Third Owner  \n",
       "4308  Individual       Manual   First Owner  \n",
       "4309      Dealer       Manual   First Owner  \n",
       "4310      Dealer       Manual   First Owner  \n",
       "4311      Dealer    Automatic   First Owner  \n",
       "\n",
       "[763 rows x 8 columns]"
      ]
     },
     "execution_count": 7,
     "metadata": {},
     "output_type": "execute_result"
    }
   ],
   "source": [
    "df[df.duplicated()]"
   ]
  },
  {
   "cell_type": "markdown",
   "id": "d4a66e44",
   "metadata": {},
   "source": [
    "### We can see that there are some duplicate values in this dataset but it is possible that same model of car was sold again. So, we will not take them as duplicates and keep them in our dataset."
   ]
  },
  {
   "cell_type": "code",
   "execution_count": 8,
   "id": "9b976b3f",
   "metadata": {},
   "outputs": [
    {
     "data": {
      "text/html": [
       "<div>\n",
       "<style scoped>\n",
       "    .dataframe tbody tr th:only-of-type {\n",
       "        vertical-align: middle;\n",
       "    }\n",
       "\n",
       "    .dataframe tbody tr th {\n",
       "        vertical-align: top;\n",
       "    }\n",
       "\n",
       "    .dataframe thead th {\n",
       "        text-align: right;\n",
       "    }\n",
       "</style>\n",
       "<table border=\"1\" class=\"dataframe\">\n",
       "  <thead>\n",
       "    <tr style=\"text-align: right;\">\n",
       "      <th></th>\n",
       "      <th>name</th>\n",
       "      <th>year</th>\n",
       "      <th>selling_price</th>\n",
       "      <th>km_driven</th>\n",
       "      <th>fuel</th>\n",
       "      <th>seller_type</th>\n",
       "      <th>transmission</th>\n",
       "      <th>owner</th>\n",
       "      <th>brand</th>\n",
       "    </tr>\n",
       "  </thead>\n",
       "  <tbody>\n",
       "    <tr>\n",
       "      <th>0</th>\n",
       "      <td>Maruti 800 AC</td>\n",
       "      <td>2007</td>\n",
       "      <td>60000</td>\n",
       "      <td>70000</td>\n",
       "      <td>Petrol</td>\n",
       "      <td>Individual</td>\n",
       "      <td>Manual</td>\n",
       "      <td>First Owner</td>\n",
       "      <td>Maruti</td>\n",
       "    </tr>\n",
       "    <tr>\n",
       "      <th>1</th>\n",
       "      <td>Maruti Wagon R LXI Minor</td>\n",
       "      <td>2007</td>\n",
       "      <td>135000</td>\n",
       "      <td>50000</td>\n",
       "      <td>Petrol</td>\n",
       "      <td>Individual</td>\n",
       "      <td>Manual</td>\n",
       "      <td>First Owner</td>\n",
       "      <td>Maruti</td>\n",
       "    </tr>\n",
       "    <tr>\n",
       "      <th>2</th>\n",
       "      <td>Hyundai Verna 1.6 SX</td>\n",
       "      <td>2012</td>\n",
       "      <td>600000</td>\n",
       "      <td>100000</td>\n",
       "      <td>Diesel</td>\n",
       "      <td>Individual</td>\n",
       "      <td>Manual</td>\n",
       "      <td>First Owner</td>\n",
       "      <td>Hyundai</td>\n",
       "    </tr>\n",
       "    <tr>\n",
       "      <th>3</th>\n",
       "      <td>Datsun RediGO T Option</td>\n",
       "      <td>2017</td>\n",
       "      <td>250000</td>\n",
       "      <td>46000</td>\n",
       "      <td>Petrol</td>\n",
       "      <td>Individual</td>\n",
       "      <td>Manual</td>\n",
       "      <td>First Owner</td>\n",
       "      <td>Datsun</td>\n",
       "    </tr>\n",
       "    <tr>\n",
       "      <th>4</th>\n",
       "      <td>Honda Amaze VX i-DTEC</td>\n",
       "      <td>2014</td>\n",
       "      <td>450000</td>\n",
       "      <td>141000</td>\n",
       "      <td>Diesel</td>\n",
       "      <td>Individual</td>\n",
       "      <td>Manual</td>\n",
       "      <td>Second Owner</td>\n",
       "      <td>Honda</td>\n",
       "    </tr>\n",
       "  </tbody>\n",
       "</table>\n",
       "</div>"
      ],
      "text/plain": [
       "                       name  year  selling_price  km_driven    fuel  \\\n",
       "0             Maruti 800 AC  2007          60000      70000  Petrol   \n",
       "1  Maruti Wagon R LXI Minor  2007         135000      50000  Petrol   \n",
       "2      Hyundai Verna 1.6 SX  2012         600000     100000  Diesel   \n",
       "3    Datsun RediGO T Option  2017         250000      46000  Petrol   \n",
       "4     Honda Amaze VX i-DTEC  2014         450000     141000  Diesel   \n",
       "\n",
       "  seller_type transmission         owner    brand  \n",
       "0  Individual       Manual   First Owner   Maruti  \n",
       "1  Individual       Manual   First Owner   Maruti  \n",
       "2  Individual       Manual   First Owner  Hyundai  \n",
       "3  Individual       Manual   First Owner   Datsun  \n",
       "4  Individual       Manual  Second Owner    Honda  "
      ]
     },
     "execution_count": 8,
     "metadata": {},
     "output_type": "execute_result"
    }
   ],
   "source": [
    "df['brand']= df.name.str.split().str.get(0)\n",
    "df.head()"
   ]
  },
  {
   "cell_type": "code",
   "execution_count": 9,
   "id": "255d2702",
   "metadata": {},
   "outputs": [],
   "source": [
    "df.drop('name',axis=1,inplace=True)"
   ]
  },
  {
   "cell_type": "code",
   "execution_count": 10,
   "id": "dea31d96",
   "metadata": {},
   "outputs": [
    {
     "name": "stdout",
     "output_type": "stream",
     "text": [
      "Maruti           1280\n",
      "Hyundai           821\n",
      "Mahindra          365\n",
      "Tata              361\n",
      "Honda             252\n",
      "Ford              238\n",
      "Toyota            206\n",
      "Chevrolet         188\n",
      "Renault           146\n",
      "Volkswagen        107\n",
      "Skoda              68\n",
      "Nissan             64\n",
      "Audi               60\n",
      "BMW                39\n",
      "Fiat               37\n",
      "Datsun             37\n",
      "Mercedes-Benz      35\n",
      "Jaguar              6\n",
      "Mitsubishi          6\n",
      "Land                5\n",
      "Volvo               4\n",
      "Ambassador          4\n",
      "Jeep                3\n",
      "MG                  2\n",
      "OpelCorsa           2\n",
      "Daewoo              1\n",
      "Force               1\n",
      "Isuzu               1\n",
      "Kia                 1\n",
      "Name: brand, dtype: int64\n"
     ]
    }
   ],
   "source": [
    "brand = df.brand.value_counts()\n",
    "print(brand)"
   ]
  },
  {
   "cell_type": "code",
   "execution_count": 11,
   "id": "322a3011",
   "metadata": {},
   "outputs": [
    {
     "data": {
      "image/png": "[encoded data removed]",
      "text/plain": [
       "<Figure size 1000x500 with 1 Axes>"
      ]
     },
     "metadata": {},
     "output_type": "display_data"
    }
   ],
   "source": [
    "plt.figure(figsize=(10,5))\n",
    "plt.bar(brand.index,brand.values)\n",
    "plt.title(\"Brand Wise Expansion\", color='red')\n",
    "plt.xlabel(\"Brand\",color='green',size=20)\n",
    "plt.xticks(rotation = 90)\n",
    "plt.ylabel(\"No. of Cars Sold\")\n",
    "plt.grid()\n",
    "plt.show()"
   ]
  },
  {
   "cell_type": "code",
   "execution_count": 12,
   "id": "c46b657b",
   "metadata": {},
   "outputs": [
    {
     "name": "stdout",
     "output_type": "stream",
     "text": [
      "2017    466\n",
      "2015    421\n",
      "2012    415\n",
      "2013    386\n",
      "2014    367\n",
      "2018    366\n",
      "2016    357\n",
      "2011    271\n",
      "2010    234\n",
      "2019    195\n",
      "2009    193\n",
      "2008    145\n",
      "2007    134\n",
      "2006    110\n",
      "2005     85\n",
      "2020     48\n",
      "2004     42\n",
      "2003     23\n",
      "2002     21\n",
      "2001     20\n",
      "1998     12\n",
      "2000     12\n",
      "1999     10\n",
      "1997      3\n",
      "1996      2\n",
      "1995      1\n",
      "1992      1\n",
      "Name: year, dtype: int64\n"
     ]
    }
   ],
   "source": [
    "Counts= df.year.value_counts()\n",
    "print(Counts)"
   ]
  },
  {
   "cell_type": "code",
   "execution_count": 13,
   "id": "ac7062c6",
   "metadata": {},
   "outputs": [
    {
     "data": {
      "image/png": "[encoded data removed]",
      "text/plain": [
       "<Figure size 600x400 with 1 Axes>"
      ]
     },
     "metadata": {},
     "output_type": "display_data"
    }
   ],
   "source": [
    "plt.figure(figsize=(6,4))\n",
    "plt.bar(Counts.index,Counts.values)\n",
    "plt.title(\"Year Wise growth\", color='red')\n",
    "plt.xlabel(\"Years\",color='green',size=20)\n",
    "plt.ylabel(\"No. of Cars Sold\")\n",
    "plt.grid()\n",
    "plt.show()"
   ]
  },
  {
   "cell_type": "markdown",
   "id": "ca3cc898",
   "metadata": {},
   "source": [
    "### We can see that there is a sharp growth in car sales from year 2012. A sharp decline in 2019-20 due to the lockdown."
   ]
  },
  {
   "cell_type": "code",
   "execution_count": 14,
   "id": "a0a62244",
   "metadata": {},
   "outputs": [
    {
     "name": "stdout",
     "output_type": "stream",
     "text": [
      "Individual          3244\n",
      "Dealer               994\n",
      "Trustmark Dealer     102\n",
      "Name: seller_type, dtype: int64\n"
     ]
    }
   ],
   "source": [
    "seller = df.seller_type.value_counts()\n",
    "print(seller)"
   ]
  },
  {
   "cell_type": "code",
   "execution_count": 15,
   "id": "548063aa",
   "metadata": {},
   "outputs": [
    {
     "data": {
      "image/png": "[encoded data removed]",
      "text/plain": [
       "<Figure size 800x400 with 1 Axes>"
      ]
     },
     "metadata": {},
     "output_type": "display_data"
    }
   ],
   "source": [
    "plt.figure(figsize=(8,4))\n",
    "plt.bar(seller.index,seller.values)\n",
    "plt.title(\"Seller Type Sales\", color='red')\n",
    "plt.xlabel(\"Seller Type\",color='green',size=20)\n",
    "plt.ylabel(\"No. of Cars Sold\")\n",
    "plt.show()"
   ]
  },
  {
   "cell_type": "code",
   "execution_count": 16,
   "id": "18bc87da",
   "metadata": {},
   "outputs": [
    {
     "data": {
      "image/png": "[encoded data removed]",
      "text/plain": [
       "<Figure size 800x800 with 1 Axes>"
      ]
     },
     "metadata": {},
     "output_type": "display_data"
    }
   ],
   "source": [
    "labels = df[\"brand\"].value_counts().index[:10]\n",
    "sizes = df[\"brand\"].value_counts()[:10]\n",
    "plt.figure(figsize = (8,8))\n",
    "plt.pie(sizes, labels=labels, rotatelabels=False, autopct='%1.1f%%')\n",
    "plt.title('Top 10 Car Selling Brands',color = 'red',fontsize = 20)\n",
    "plt.show()"
   ]
  },
  {
   "cell_type": "code",
   "execution_count": 17,
   "id": "072939e4",
   "metadata": {},
   "outputs": [
    {
     "data": {
      "image/png": "[encoded data removed]",
      "text/plain": [
       "<Figure size 1000x500 with 1 Axes>"
      ]
     },
     "metadata": {},
     "output_type": "display_data"
    }
   ],
   "source": [
    "labels = df[\"owner\"].value_counts()\n",
    "sizes = df[\"owner\"].value_counts().index\n",
    "plt.figure(figsize = (10,5))\n",
    "plt.bar(sizes, labels)\n",
    "plt.title('Owner Wise Sales Distribution',color = 'red',fontsize = 18)\n",
    "plt.xlabel('Owner')\n",
    "plt.ylabel(\"Number of Cars Sold\")\n",
    "plt.show()"
   ]
  },
  {
   "cell_type": "code",
   "execution_count": 18,
   "id": "fcad2ae8",
   "metadata": {},
   "outputs": [
    {
     "data": {
      "image/png": "[encoded data removed]",
      "text/plain": [
       "<Figure size 800x300 with 1 Axes>"
      ]
     },
     "metadata": {},
     "output_type": "display_data"
    }
   ],
   "source": [
    "labels = df[\"fuel\"].value_counts().values\n",
    "sizes = df[\"fuel\"].value_counts().index\n",
    "plt.figure(figsize = (8,3))\n",
    "plt.bar(sizes, labels)\n",
    "plt.title('Sales Distribution by Fuel Type',color = 'red',fontsize = 20)\n",
    "plt.xlabel('Fuel Type', fontsize= 12,color= 'red')\n",
    "plt.ylabel(\"Number of Cars Sold\")\n",
    "plt.show()"
   ]
  },
  {
   "cell_type": "code",
   "execution_count": 19,
   "id": "84882e0e",
   "metadata": {},
   "outputs": [
    {
     "name": "stdout",
     "output_type": "stream",
     "text": [
      "brand\n",
      "Daewoo             60000\n",
      "OpelCorsa          88500\n",
      "Ambassador        180000\n",
      "Chevrolet         236727\n",
      "Fiat              283432\n",
      "Tata              284083\n",
      "Datsun            297026\n",
      "Maruti            342416\n",
      "Force             346000\n",
      "Renault           419376\n",
      "Hyundai           419940\n",
      "Nissan            449937\n",
      "Volkswagen        471037\n",
      "Skoda             490014\n",
      "Honda             538146\n",
      "Ford              571273\n",
      "Mahindra          587709\n",
      "Mitsubishi        840000\n",
      "Toyota            924359\n",
      "Kia              1300000\n",
      "Isuzu            1500000\n",
      "Jeep             1530000\n",
      "MG               1842500\n",
      "Audi             1931633\n",
      "Jaguar           2069166\n",
      "Volvo            2556250\n",
      "Mercedes-Benz    2776657\n",
      "BMW              2945384\n",
      "Land             3609800\n",
      "Name: selling_price, dtype: int32\n"
     ]
    }
   ],
   "source": [
    "price = df.groupby(['brand'])['selling_price'].mean().astype(int)\n",
    "price.sort_values(ascending= True, inplace= True)\n",
    "print(price)"
   ]
  },
  {
   "cell_type": "code",
   "execution_count": 20,
   "id": "f2bf83e0",
   "metadata": {},
   "outputs": [
    {
     "data": {
      "image/png": "[encoded data removed]",
      "text/plain": [
       "<Figure size 800x500 with 1 Axes>"
      ]
     },
     "metadata": {},
     "output_type": "display_data"
    }
   ],
   "source": [
    "plt.figure(figsize=(8,5))\n",
    "plt.bar(price.index,price.values)\n",
    "plt.title(\"Average Price of Each Brand\", color='red')\n",
    "plt.xlabel(\"Brand Name\",color='green',size=20)\n",
    "plt.ylabel(\"Average Price\")\n",
    "plt.xticks(rotation= 90)\n",
    "yticks = plt.yticks()[0]\n",
    "plt.yticks(yticks, [int(y) for y in yticks])\n",
    "plt.show()"
   ]
  },
  {
   "cell_type": "code",
   "execution_count": 21,
   "id": "128b3b7c",
   "metadata": {},
   "outputs": [
    {
     "name": "stdout",
     "output_type": "stream",
     "text": [
      "owner\n",
      "First Owner             598636.969633\n",
      "Fourth & Above Owner    173901.197531\n",
      "Second Owner            343891.088608\n",
      "Test Drive Car          954293.941176\n",
      "Third Owner             269474.003289\n",
      "Name: selling_price, dtype: float64\n"
     ]
    }
   ],
   "source": [
    "price_owner = df.groupby(['owner'])['selling_price'].mean()\n",
    "print(price_owner)"
   ]
  },
  {
   "cell_type": "code",
   "execution_count": 22,
   "id": "b48401b3",
   "metadata": {
    "scrolled": true
   },
   "outputs": [
    {
     "data": {
      "image/png": "[encoded data removed]",
      "text/plain": [
       "<Figure size 600x280 with 1 Axes>"
      ]
     },
     "metadata": {},
     "output_type": "display_data"
    }
   ],
   "source": [
    "plt.figure(figsize=(6,2.8))\n",
    "plt.bar(price_owner.index,price_owner.values)\n",
    "plt.title(\"Average Value as per the owner\", color='red')\n",
    "plt.xlabel(\"Owner Type\",color='green',size=20)\n",
    "plt.ylabel(\"Average Price\")\n",
    "plt.xticks(rotation= 10)\n",
    "yticks = plt.yticks()[0]\n",
    "plt.yticks(yticks, [int(y) for y in yticks])\n",
    "plt.show()"
   ]
  },
  {
   "cell_type": "code",
   "execution_count": 23,
   "id": "dfd13d43",
   "metadata": {},
   "outputs": [
    {
     "data": {
      "image/png": "[encoded data removed]",
      "text/plain": [
       "<Figure size 800x500 with 1 Axes>"
      ]
     },
     "metadata": {},
     "output_type": "display_data"
    }
   ],
   "source": [
    "plt.figure(figsize=(8,5))\n",
    "plt.title('KM Driven by Selling Price Distribution', fontsize=15)\n",
    "sns.scatterplot(data=df, x='km_driven', y='selling_price')\n",
    "yticks = plt.yticks()[0]\n",
    "plt.yticks(yticks, [int(y) for y in yticks])\n",
    "plt.show()"
   ]
  },
  {
   "cell_type": "code",
   "execution_count": 24,
   "id": "0eb434ef",
   "metadata": {},
   "outputs": [],
   "source": [
    "q= df['selling_price'].quantile(0.95)\n",
    "df = df[df['selling_price']<q]"
   ]
  },
  {
   "cell_type": "code",
   "execution_count": 25,
   "id": "336bbc54",
   "metadata": {},
   "outputs": [],
   "source": [
    "from sklearn.preprocessing import LabelEncoder"
   ]
  },
  {
   "cell_type": "code",
   "execution_count": 26,
   "id": "988a3dcf",
   "metadata": {},
   "outputs": [],
   "source": [
    "lb = LabelEncoder()\n",
    "df['fuel'] = lb.fit_transform(df['fuel'])\n",
    "df['seller_type']= lb.fit_transform(df['seller_type'])\n",
    "df['transmission']= lb.fit_transform(df['transmission'])\n",
    "df['owner']= lb.fit_transform(df['owner'])\n",
    "df['brand']= lb.fit_transform(df['brand'])\n"
   ]
  },
  {
   "cell_type": "code",
   "execution_count": 27,
   "id": "b465e51b",
   "metadata": {},
   "outputs": [
    {
     "data": {
      "text/html": [
       "<div>\n",
       "<style scoped>\n",
       "    .dataframe tbody tr th:only-of-type {\n",
       "        vertical-align: middle;\n",
       "    }\n",
       "\n",
       "    .dataframe tbody tr th {\n",
       "        vertical-align: top;\n",
       "    }\n",
       "\n",
       "    .dataframe thead th {\n",
       "        text-align: right;\n",
       "    }\n",
       "</style>\n",
       "<table border=\"1\" class=\"dataframe\">\n",
       "  <thead>\n",
       "    <tr style=\"text-align: right;\">\n",
       "      <th></th>\n",
       "      <th>year</th>\n",
       "      <th>selling_price</th>\n",
       "      <th>km_driven</th>\n",
       "      <th>fuel</th>\n",
       "      <th>seller_type</th>\n",
       "      <th>transmission</th>\n",
       "      <th>owner</th>\n",
       "      <th>brand</th>\n",
       "    </tr>\n",
       "  </thead>\n",
       "  <tbody>\n",
       "    <tr>\n",
       "      <th>0</th>\n",
       "      <td>2007</td>\n",
       "      <td>60000</td>\n",
       "      <td>70000</td>\n",
       "      <td>4</td>\n",
       "      <td>1</td>\n",
       "      <td>1</td>\n",
       "      <td>0</td>\n",
       "      <td>12</td>\n",
       "    </tr>\n",
       "    <tr>\n",
       "      <th>1</th>\n",
       "      <td>2007</td>\n",
       "      <td>135000</td>\n",
       "      <td>50000</td>\n",
       "      <td>4</td>\n",
       "      <td>1</td>\n",
       "      <td>1</td>\n",
       "      <td>0</td>\n",
       "      <td>12</td>\n",
       "    </tr>\n",
       "    <tr>\n",
       "      <th>2</th>\n",
       "      <td>2012</td>\n",
       "      <td>600000</td>\n",
       "      <td>100000</td>\n",
       "      <td>1</td>\n",
       "      <td>1</td>\n",
       "      <td>1</td>\n",
       "      <td>0</td>\n",
       "      <td>10</td>\n",
       "    </tr>\n",
       "    <tr>\n",
       "      <th>3</th>\n",
       "      <td>2017</td>\n",
       "      <td>250000</td>\n",
       "      <td>46000</td>\n",
       "      <td>4</td>\n",
       "      <td>1</td>\n",
       "      <td>1</td>\n",
       "      <td>0</td>\n",
       "      <td>5</td>\n",
       "    </tr>\n",
       "    <tr>\n",
       "      <th>4</th>\n",
       "      <td>2014</td>\n",
       "      <td>450000</td>\n",
       "      <td>141000</td>\n",
       "      <td>1</td>\n",
       "      <td>1</td>\n",
       "      <td>1</td>\n",
       "      <td>2</td>\n",
       "      <td>9</td>\n",
       "    </tr>\n",
       "  </tbody>\n",
       "</table>\n",
       "</div>"
      ],
      "text/plain": [
       "   year  selling_price  km_driven  fuel  seller_type  transmission  owner  \\\n",
       "0  2007          60000      70000     4            1             1      0   \n",
       "1  2007         135000      50000     4            1             1      0   \n",
       "2  2012         600000     100000     1            1             1      0   \n",
       "3  2017         250000      46000     4            1             1      0   \n",
       "4  2014         450000     141000     1            1             1      2   \n",
       "\n",
       "   brand  \n",
       "0     12  \n",
       "1     12  \n",
       "2     10  \n",
       "3      5  \n",
       "4      9  "
      ]
     },
     "execution_count": 27,
     "metadata": {},
     "output_type": "execute_result"
    }
   ],
   "source": [
    "df.head()"
   ]
  },
  {
   "cell_type": "code",
   "execution_count": 28,
   "id": "598c7bdc",
   "metadata": {},
   "outputs": [
    {
     "name": "stdout",
     "output_type": "stream",
     "text": [
      "<class 'pandas.core.frame.DataFrame'>\n",
      "<class 'pandas.core.series.Series'>\n",
      "(4115, 7)\n",
      "(4115,)\n"
     ]
    }
   ],
   "source": [
    "x = df.drop('selling_price',axis=1)\n",
    "y = df['selling_price']\n",
    "print(type(x))\n",
    "print(type(y))\n",
    "print(x.shape)\n",
    "print(y.shape)"
   ]
  },
  {
   "cell_type": "code",
   "execution_count": 29,
   "id": "ae309208",
   "metadata": {},
   "outputs": [
    {
     "name": "stdout",
     "output_type": "stream",
     "text": [
      "(3086, 7)\n",
      "(1029, 7)\n",
      "(3086,)\n",
      "(1029,)\n"
     ]
    }
   ],
   "source": [
    "from sklearn.model_selection import train_test_split\n",
    "x_train, x_test, y_train, y_test = train_test_split(x,y, test_size = 0.25, random_state= 1)\n",
    "print(x_train.shape)\n",
    "print(x_test.shape)\n",
    "print(y_train.shape)\n",
    "print(y_test.shape)"
   ]
  },
  {
   "cell_type": "code",
   "execution_count": 30,
   "id": "ca5c1854",
   "metadata": {},
   "outputs": [],
   "source": [
    "from sklearn.metrics import mean_squared_error, mean_absolute_error,r2_score\n",
    "def reg_eval_metrics(y, ypred):\n",
    "    mae= mean_absolute_error(y, ypred)\n",
    "    mse= mean_squared_error(y, ypred)\n",
    "    rmse = np.sqrt(mse)\n",
    "    r2= r2_score(y, ypred)\n",
    "    print('mae:',mae)\n",
    "    print('mse:',mse)\n",
    "    print('rmse:',rmse)\n",
    "    print('r2_score:',r2)"
   ]
  },
  {
   "cell_type": "code",
   "execution_count": 31,
   "id": "50f233f5",
   "metadata": {},
   "outputs": [],
   "source": [
    "def mscore(model):\n",
    "    print('Training Score:', model.score(x_train,y_train))  \n",
    "    print('Testing Score:', model.score(x_test,y_test))\n",
    "    \n",
    "def reg_coef_inter(model):\n",
    "    print(\"Model coefficient:\", model.coef_)\n",
    "    print(\"Model Intercept:\", model.intercept_)"
   ]
  },
  {
   "cell_type": "code",
   "execution_count": 32,
   "id": "f532648c",
   "metadata": {},
   "outputs": [],
   "source": [
    "from sklearn.preprocessing import StandardScaler"
   ]
  },
  {
   "cell_type": "code",
   "execution_count": 33,
   "id": "d7bd0689",
   "metadata": {},
   "outputs": [],
   "source": [
    "sc = StandardScaler()\n",
    "x_train = sc.fit_transform(x_train)\n",
    "x_test = sc.transform(x_test)"
   ]
  },
  {
   "cell_type": "code",
   "execution_count": 34,
   "id": "b792b02f",
   "metadata": {},
   "outputs": [
    {
     "name": "stdout",
     "output_type": "stream",
     "text": [
      "[[ 1.2144273  -0.96411425 -1.02233039 -1.81773948  0.26535404 -0.6844467\n",
      "  -0.70730134]\n",
      " [-1.39491184  0.30050899  0.96480687  0.42787463  0.26535404  2.50739693\n",
      "   0.00368626]\n",
      " [ 0.97721465 -1.19404575  0.96480687  0.42787463  0.26535404 -0.6844467\n",
      "   0.00368626]\n",
      " [-1.15769919  0.76037198  0.96480687  0.42787463  0.26535404  0.91147511\n",
      "   0.00368626]\n",
      " [ 0.50278935  1.22023498  0.96480687  0.42787463  0.26535404  0.11351421\n",
      "   0.00368626]]\n"
     ]
    }
   ],
   "source": [
    "print(x_train[:5])"
   ]
  },
  {
   "cell_type": "code",
   "execution_count": 35,
   "id": "bcbf22b7",
   "metadata": {},
   "outputs": [
    {
     "name": "stdout",
     "output_type": "stream",
     "text": [
      "<class 'numpy.ndarray'>\n",
      "<class 'numpy.ndarray'>\n",
      "<class 'pandas.core.series.Series'>\n",
      "<class 'pandas.core.series.Series'>\n"
     ]
    }
   ],
   "source": [
    "print(type(x_train))\n",
    "print(type(x_test))\n",
    "print(type(y_train))\n",
    "print(type(y_test))"
   ]
  },
  {
   "cell_type": "code",
   "execution_count": 36,
   "id": "31f8f0fa",
   "metadata": {},
   "outputs": [],
   "source": [
    "from sklearn.linear_model import LinearRegression, Ridge, Lasso\n",
    "from sklearn.neighbors import KNeighborsRegressor\n",
    "from sklearn.tree import DecisionTreeRegressor\n",
    "from sklearn.ensemble import GradientBoostingRegressor"
   ]
  },
  {
   "cell_type": "code",
   "execution_count": 37,
   "id": "560004a9",
   "metadata": {},
   "outputs": [
    {
     "data": {
      "text/plain": [
       "LinearRegression()"
      ]
     },
     "execution_count": 37,
     "metadata": {},
     "output_type": "execute_result"
    }
   ],
   "source": [
    "## Checking the Linear Regression Model\n",
    "LR = LinearRegression()\n",
    "LR.fit(x_train,y_train)"
   ]
  },
  {
   "cell_type": "code",
   "execution_count": 38,
   "id": "ad7dadb9",
   "metadata": {},
   "outputs": [
    {
     "name": "stdout",
     "output_type": "stream",
     "text": [
      "Training Score: 0.4970375651348494\n",
      "Testing Score: 0.46283746068825604\n"
     ]
    }
   ],
   "source": [
    "mscore(LR)"
   ]
  },
  {
   "cell_type": "code",
   "execution_count": 39,
   "id": "54146dfc",
   "metadata": {},
   "outputs": [],
   "source": [
    "ypred_LR = LR.predict(x_test)"
   ]
  },
  {
   "cell_type": "code",
   "execution_count": 40,
   "id": "aece8c0d",
   "metadata": {},
   "outputs": [
    {
     "name": "stdout",
     "output_type": "stream",
     "text": [
      "mae: 150350.75631581264\n",
      "mse: 41173946473.534836\n",
      "rmse: 202913.64289651604\n",
      "r2_score: 0.46283746068825604\n"
     ]
    }
   ],
   "source": [
    "reg_eval_metrics(y_test,ypred_LR)"
   ]
  },
  {
   "cell_type": "code",
   "execution_count": 41,
   "id": "19266f69",
   "metadata": {},
   "outputs": [
    {
     "name": "stdout",
     "output_type": "stream",
     "text": [
      "Model coefficient: [132475.72312622 -23457.05528806 -82384.46896638  -2920.78847979\n",
      " -48798.19897549  -7406.03946176   -694.61920125]\n",
      "Model Intercept: 395616.25696694554\n"
     ]
    }
   ],
   "source": [
    "reg_coef_inter(LR)"
   ]
  },
  {
   "cell_type": "code",
   "execution_count": 42,
   "id": "74840630",
   "metadata": {},
   "outputs": [
    {
     "data": {
      "text/plain": [
       "KNeighborsRegressor(n_neighbors=30)"
      ]
     },
     "execution_count": 42,
     "metadata": {},
     "output_type": "execute_result"
    }
   ],
   "source": [
    "## Checking the KNN Regression Model\n",
    "KNN = KNeighborsRegressor(n_neighbors=30)\n",
    "KNN.fit(x_train,y_train)"
   ]
  },
  {
   "cell_type": "code",
   "execution_count": 43,
   "id": "131120cd",
   "metadata": {},
   "outputs": [
    {
     "name": "stdout",
     "output_type": "stream",
     "text": [
      "Training Score: 0.6055866886153606\n",
      "Testing Score: 0.5713013790213692\n"
     ]
    }
   ],
   "source": [
    "mscore(KNN)"
   ]
  },
  {
   "cell_type": "code",
   "execution_count": 44,
   "id": "949f4715",
   "metadata": {},
   "outputs": [],
   "source": [
    "ypred_KNN = KNN.predict(x_test)"
   ]
  },
  {
   "cell_type": "code",
   "execution_count": 45,
   "id": "e28d49b7",
   "metadata": {},
   "outputs": [
    {
     "name": "stdout",
     "output_type": "stream",
     "text": [
      "mae: 129481.00142533204\n",
      "mse: 32860098725.552418\n",
      "rmse: 181273.54667891402\n",
      "r2_score: 0.5713013790213692\n"
     ]
    }
   ],
   "source": [
    "reg_eval_metrics(y_test,ypred_KNN)"
   ]
  },
  {
   "cell_type": "code",
   "execution_count": 46,
   "id": "4578f26b",
   "metadata": {},
   "outputs": [
    {
     "data": {
      "text/plain": [
       "Ridge(alpha=5)"
      ]
     },
     "execution_count": 46,
     "metadata": {},
     "output_type": "execute_result"
    }
   ],
   "source": [
    "## Checking the Ridge Regression Model\n",
    "RR = Ridge(alpha=5)\n",
    "RR.fit(x_train,y_train)"
   ]
  },
  {
   "cell_type": "code",
   "execution_count": 47,
   "id": "aa9a3e85",
   "metadata": {},
   "outputs": [
    {
     "name": "stdout",
     "output_type": "stream",
     "text": [
      "Training Score: 0.4970365020743641\n",
      "Testing Score: 0.46279348913998697\n"
     ]
    }
   ],
   "source": [
    "mscore(RR)"
   ]
  },
  {
   "cell_type": "code",
   "execution_count": 48,
   "id": "1d453aca",
   "metadata": {},
   "outputs": [],
   "source": [
    "ypred_RR = RR.predict(x_test)"
   ]
  },
  {
   "cell_type": "code",
   "execution_count": 49,
   "id": "b17cbb35",
   "metadata": {},
   "outputs": [
    {
     "name": "stdout",
     "output_type": "stream",
     "text": [
      "mae: 150333.22334417902\n",
      "mse: 41177316928.550385\n",
      "rmse: 202921.94787294543\n",
      "r2_score: 0.46279348913998697\n"
     ]
    }
   ],
   "source": [
    "reg_eval_metrics(y_test,ypred_RR)"
   ]
  },
  {
   "cell_type": "code",
   "execution_count": 50,
   "id": "320e83d6",
   "metadata": {},
   "outputs": [
    {
     "name": "stdout",
     "output_type": "stream",
     "text": [
      "Model coefficient: [132240.39830677 -23464.55233708 -82272.17854224  -2936.91458756\n",
      " -48725.40159438  -7485.59814219   -681.94004155]\n",
      "Model Intercept: 395616.2569669456\n"
     ]
    }
   ],
   "source": [
    "reg_coef_inter(RR)"
   ]
  },
  {
   "cell_type": "code",
   "execution_count": 51,
   "id": "1e50652c",
   "metadata": {},
   "outputs": [
    {
     "data": {
      "text/plain": [
       "Lasso(alpha=0.1)"
      ]
     },
     "execution_count": 51,
     "metadata": {},
     "output_type": "execute_result"
    }
   ],
   "source": [
    "## Checking the Lasso Regression Model\n",
    "LAS= Lasso(alpha=0.1)\n",
    "LAS.fit(x_train,y_train)"
   ]
  },
  {
   "cell_type": "code",
   "execution_count": 52,
   "id": "674d39b9",
   "metadata": {},
   "outputs": [
    {
     "name": "stdout",
     "output_type": "stream",
     "text": [
      "Training Score: 0.49703756513398356\n",
      "Testing Score: 0.4628374157478823\n"
     ]
    }
   ],
   "source": [
    "mscore(LAS)"
   ]
  },
  {
   "cell_type": "code",
   "execution_count": 53,
   "id": "ed8f72ba",
   "metadata": {},
   "outputs": [],
   "source": [
    "ypred_LAS = LAS.predict(x_test)"
   ]
  },
  {
   "cell_type": "code",
   "execution_count": 54,
   "id": "b0ef429c",
   "metadata": {},
   "outputs": [
    {
     "name": "stdout",
     "output_type": "stream",
     "text": [
      "mae: 150350.7531592712\n",
      "mse: 41173949918.25111\n",
      "rmse: 202913.6513846496\n",
      "r2_score: 0.4628374157478823\n"
     ]
    }
   ],
   "source": [
    "reg_eval_metrics(y_test,ypred_LAS)"
   ]
  },
  {
   "cell_type": "code",
   "execution_count": 55,
   "id": "d330c50f",
   "metadata": {},
   "outputs": [
    {
     "name": "stdout",
     "output_type": "stream",
     "text": [
      "Model coefficient: [132475.74280665 -23456.94312279 -82384.3101839   -2920.73506252\n",
      " -48798.1075976   -7405.97471566   -694.51424815]\n",
      "Model Intercept: 395616.25696694554\n"
     ]
    }
   ],
   "source": [
    "reg_coef_inter(LAS)"
   ]
  },
  {
   "cell_type": "code",
   "execution_count": 56,
   "id": "fccf1edc",
   "metadata": {},
   "outputs": [
    {
     "data": {
      "text/plain": [
       "DecisionTreeRegressor(max_depth=3, random_state=30)"
      ]
     },
     "execution_count": 56,
     "metadata": {},
     "output_type": "execute_result"
    }
   ],
   "source": [
    "## Checking the Decision Tree Regressor Model\n",
    "DT = DecisionTreeRegressor(max_depth= 3, random_state=30)\n",
    "DT.fit(x_train,y_train)"
   ]
  },
  {
   "cell_type": "code",
   "execution_count": 57,
   "id": "a77fa9e9",
   "metadata": {},
   "outputs": [
    {
     "name": "stdout",
     "output_type": "stream",
     "text": [
      "Training Score: 0.5020524375127571\n",
      "Testing Score: 0.4354525164148747\n"
     ]
    }
   ],
   "source": [
    "mscore(DT)"
   ]
  },
  {
   "cell_type": "code",
   "execution_count": 58,
   "id": "7b03b682",
   "metadata": {},
   "outputs": [],
   "source": [
    "ypred_DT = DT.predict(x_test)"
   ]
  },
  {
   "cell_type": "code",
   "execution_count": 59,
   "id": "9b754e3e",
   "metadata": {},
   "outputs": [
    {
     "name": "stdout",
     "output_type": "stream",
     "text": [
      "mae: 151857.83796094643\n",
      "mse: 43273024773.257\n",
      "rmse: 208021.69303526255\n",
      "r2_score: 0.4354525164148747\n"
     ]
    }
   ],
   "source": [
    "reg_eval_metrics(y_test,ypred_DT)"
   ]
  },
  {
   "cell_type": "code",
   "execution_count": 60,
   "id": "284da14f",
   "metadata": {},
   "outputs": [
    {
     "data": {
      "text/plain": [
       "GradientBoostingRegressor(max_depth=8, min_samples_leaf=30, n_estimators=1000,\n",
       "                          random_state=40)"
      ]
     },
     "execution_count": 60,
     "metadata": {},
     "output_type": "execute_result"
    }
   ],
   "source": [
    "# Checking by GradientBoostingRegressor\n",
    "GBR = GradientBoostingRegressor(max_depth=8,n_estimators=1000,min_samples_leaf=30,random_state=40)\n",
    "GBR.fit(x_train,y_train)"
   ]
  },
  {
   "cell_type": "code",
   "execution_count": 61,
   "id": "ae98d792",
   "metadata": {},
   "outputs": [
    {
     "name": "stdout",
     "output_type": "stream",
     "text": [
      "Training Score: 0.8704414661186246\n",
      "Testing Score: 0.662914046006269\n"
     ]
    }
   ],
   "source": [
    "mscore(GBR)"
   ]
  },
  {
   "cell_type": "code",
   "execution_count": 62,
   "id": "a212ed37",
   "metadata": {},
   "outputs": [],
   "source": [
    "ypred_GBR = GBR.predict(x_test)"
   ]
  },
  {
   "cell_type": "code",
   "execution_count": 63,
   "id": "a648d383",
   "metadata": {},
   "outputs": [
    {
     "name": "stdout",
     "output_type": "stream",
     "text": [
      "mae: 108940.3244377931\n",
      "mse: 25837913128.68057\n",
      "rmse: 160741.75913147326\n",
      "r2_score: 0.662914046006269\n"
     ]
    }
   ],
   "source": [
    "reg_eval_metrics(y_test,ypred_GBR)"
   ]
  },
  {
   "cell_type": "markdown",
   "id": "fd95d1fa",
   "metadata": {},
   "source": [
    "### By applying the different models on this dataset we come to the conclusion that Gadient Boosting Regressor Model is the best fit for this dataset as it has highest R2 Score and also a decent MAE score as compared to the other models.\n",
    "### Hence, we would proceed with the Gradient Boosting Regressor Model."
   ]
  },
  {
   "cell_type": "code",
   "execution_count": 64,
   "id": "8a6912f5",
   "metadata": {},
   "outputs": [],
   "source": [
    "import pickle"
   ]
  },
  {
   "cell_type": "code",
   "execution_count": 65,
   "id": "2a2c2600",
   "metadata": {},
   "outputs": [
    {
     "data": {
      "text/plain": [
       "GradientBoostingRegressor(max_depth=8, min_samples_leaf=30, n_estimators=1000,\n",
       "                          random_state=40)"
      ]
     },
     "execution_count": 65,
     "metadata": {},
     "output_type": "execute_result"
    }
   ],
   "source": [
    "best_model = GBR\n",
    "best_model.fit(x_train, y_train)"
   ]
  },
  {
   "cell_type": "code",
   "execution_count": 66,
   "id": "c6082b43",
   "metadata": {},
   "outputs": [],
   "source": [
    "### Saving the Best Model;\n",
    "with open('GBR_model.pkl', 'wb') as model_file:\n",
    "    pickle.dump(best_model, model_file)"
   ]
  },
  {
   "cell_type": "code",
   "execution_count": 67,
   "id": "ade74959",
   "metadata": {},
   "outputs": [],
   "source": [
    "### Loading the Model;\n",
    "with open('GBR_model.pkl', 'rb') as model_file:\n",
    "    loaded_model = pickle.load(model_file)"
   ]
  },
  {
   "cell_type": "code",
   "execution_count": 68,
   "id": "ff77831e",
   "metadata": {},
   "outputs": [],
   "source": [
    "import random\n",
    "df1 = df.sample(frac=1, random_state=40)\n",
    "random_20 = df1.head(20)\n",
    "new_df = pd.DataFrame(random_20)\n",
    "new_df.to_csv('car_detail_20.csv', index=False)"
   ]
  },
  {
   "cell_type": "code",
   "execution_count": 69,
   "id": "07bdbaa4",
   "metadata": {},
   "outputs": [
    {
     "data": {
      "text/html": [
       "<div>\n",
       "<style scoped>\n",
       "    .dataframe tbody tr th:only-of-type {\n",
       "        vertical-align: middle;\n",
       "    }\n",
       "\n",
       "    .dataframe tbody tr th {\n",
       "        vertical-align: top;\n",
       "    }\n",
       "\n",
       "    .dataframe thead th {\n",
       "        text-align: right;\n",
       "    }\n",
       "</style>\n",
       "<table border=\"1\" class=\"dataframe\">\n",
       "  <thead>\n",
       "    <tr style=\"text-align: right;\">\n",
       "      <th></th>\n",
       "      <th>year</th>\n",
       "      <th>selling_price</th>\n",
       "      <th>km_driven</th>\n",
       "      <th>fuel</th>\n",
       "      <th>seller_type</th>\n",
       "      <th>transmission</th>\n",
       "      <th>owner</th>\n",
       "      <th>brand</th>\n",
       "    </tr>\n",
       "  </thead>\n",
       "  <tbody>\n",
       "    <tr>\n",
       "      <th>2886</th>\n",
       "      <td>2012</td>\n",
       "      <td>260000</td>\n",
       "      <td>42000</td>\n",
       "      <td>4</td>\n",
       "      <td>0</td>\n",
       "      <td>1</td>\n",
       "      <td>0</td>\n",
       "      <td>8</td>\n",
       "    </tr>\n",
       "    <tr>\n",
       "      <th>1569</th>\n",
       "      <td>2011</td>\n",
       "      <td>290000</td>\n",
       "      <td>60000</td>\n",
       "      <td>1</td>\n",
       "      <td>1</td>\n",
       "      <td>1</td>\n",
       "      <td>2</td>\n",
       "      <td>21</td>\n",
       "    </tr>\n",
       "    <tr>\n",
       "      <th>2075</th>\n",
       "      <td>2014</td>\n",
       "      <td>220000</td>\n",
       "      <td>70000</td>\n",
       "      <td>4</td>\n",
       "      <td>1</td>\n",
       "      <td>1</td>\n",
       "      <td>0</td>\n",
       "      <td>3</td>\n",
       "    </tr>\n",
       "    <tr>\n",
       "      <th>54</th>\n",
       "      <td>2017</td>\n",
       "      <td>725000</td>\n",
       "      <td>18500</td>\n",
       "      <td>1</td>\n",
       "      <td>0</td>\n",
       "      <td>1</td>\n",
       "      <td>0</td>\n",
       "      <td>12</td>\n",
       "    </tr>\n",
       "    <tr>\n",
       "      <th>4233</th>\n",
       "      <td>2010</td>\n",
       "      <td>75000</td>\n",
       "      <td>100000</td>\n",
       "      <td>1</td>\n",
       "      <td>1</td>\n",
       "      <td>1</td>\n",
       "      <td>4</td>\n",
       "      <td>19</td>\n",
       "    </tr>\n",
       "  </tbody>\n",
       "</table>\n",
       "</div>"
      ],
      "text/plain": [
       "      year  selling_price  km_driven  fuel  seller_type  transmission  owner  \\\n",
       "2886  2012         260000      42000     4            0             1      0   \n",
       "1569  2011         290000      60000     1            1             1      2   \n",
       "2075  2014         220000      70000     4            1             1      0   \n",
       "54    2017         725000      18500     1            0             1      0   \n",
       "4233  2010          75000     100000     1            1             1      4   \n",
       "\n",
       "      brand  \n",
       "2886      8  \n",
       "1569     21  \n",
       "2075      3  \n",
       "54       12  \n",
       "4233     19  "
      ]
     },
     "execution_count": 69,
     "metadata": {},
     "output_type": "execute_result"
    }
   ],
   "source": [
    "new_df.head()"
   ]
  },
  {
   "cell_type": "code",
   "execution_count": 70,
   "id": "409affd3",
   "metadata": {},
   "outputs": [
    {
     "data": {
      "text/plain": [
       "(20, 8)"
      ]
     },
     "execution_count": 70,
     "metadata": {},
     "output_type": "execute_result"
    }
   ],
   "source": [
    "new_df.shape"
   ]
  },
  {
   "cell_type": "code",
   "execution_count": 71,
   "id": "3673c48e",
   "metadata": {},
   "outputs": [],
   "source": [
    "new_df1 = new_df.copy()"
   ]
  },
  {
   "cell_type": "code",
   "execution_count": 72,
   "id": "5f6eff57",
   "metadata": {},
   "outputs": [
    {
     "data": {
      "text/plain": [
       "(20, 7)"
      ]
     },
     "execution_count": 72,
     "metadata": {},
     "output_type": "execute_result"
    }
   ],
   "source": [
    "new_df.drop('selling_price',axis = 1, inplace= True)\n",
    "new_df.shape"
   ]
  },
  {
   "cell_type": "code",
   "execution_count": 73,
   "id": "9349eb1b",
   "metadata": {},
   "outputs": [],
   "source": [
    "new_df2 = new_df.copy()"
   ]
  },
  {
   "cell_type": "code",
   "execution_count": 74,
   "id": "e9fa3249",
   "metadata": {},
   "outputs": [],
   "source": [
    "sc = StandardScaler()\n",
    "new_df = sc.fit_transform(new_df)"
   ]
  },
  {
   "cell_type": "code",
   "execution_count": 75,
   "id": "77eef99b",
   "metadata": {},
   "outputs": [
    {
     "name": "stdout",
     "output_type": "stream",
     "text": [
      "[[ 0.0103038  -0.55337425  1.         -1.73205081  0.22941573 -0.72335628\n",
      "  -0.67075489]\n",
      " [-0.19577228 -0.23443166 -1.          0.57735027  0.22941573  0.53465464\n",
      "   2.05418686]\n",
      " [ 0.42245598 -0.05724133  1.          0.57735027  0.22941573 -0.72335628\n",
      "  -1.71880941]\n",
      " [ 1.04068423 -0.96977151 -1.         -1.73205081  0.22941573 -0.72335628\n",
      "   0.16768872]\n",
      " [-0.40184837  0.47432964 -1.          0.57735027  0.22941573  1.79266557\n",
      "   1.63496505]\n",
      " [ 1.24676032 -0.43642863  1.         -1.73205081  0.22941573 -0.72335628\n",
      "  -0.46114399]\n",
      " [-0.40184837 -0.41162199 -1.          0.57735027  0.22941573 -0.72335628\n",
      "  -0.04192218]\n",
      " [-0.60792445  0.47432964 -1.          0.57735027  0.22941573  1.79266557\n",
      "  -0.67075489]\n",
      " [-0.60792445  0.82871029 -1.          0.57735027  0.22941573  0.53465464\n",
      "   0.16768872]\n",
      " [-1.4322288   0.11994899  1.          0.57735027  0.22941573  1.79266557\n",
      "  -0.25153308]\n",
      " [ 0.0103038  -0.51793618  1.          0.57735027  0.22941573 -0.72335628\n",
      "  -0.25153308]\n",
      " [ 0.0103038  -0.05724133 -1.          0.57735027  0.22941573 -0.72335628\n",
      "   1.84457596]\n",
      " [ 1.04068423 -0.58881231 -1.          0.57735027  0.22941573 -0.72335628\n",
      "  -0.67075489]\n",
      " [-0.19577228  0.29713932  1.          0.57735027  0.22941573  0.53465464\n",
      "  -1.71880941]\n",
      " [ 1.45283641 -0.58881231  1.          0.57735027  0.22941573 -0.72335628\n",
      "   1.21574324]\n",
      " [ 0.62853206  1.28940514 -1.         -1.73205081  0.22941573 -0.72335628\n",
      "  -0.67075489]\n",
      " [ 1.04068423 -1.11134658  1.         -1.73205081 -4.35889894 -0.72335628\n",
      "  -0.25153308]\n",
      " [ 0.62853206 -0.8545978   1.          0.57735027  0.22941573 -0.72335628\n",
      "   0.16768872]\n",
      " [-0.81400054  3.48656518 -1.          0.57735027  0.22941573  1.79266557\n",
      "  -0.04192218]\n",
      " [-2.8747614  -0.58881231  1.          0.57735027  0.22941573 -0.09435082\n",
      "   0.16768872]]\n"
     ]
    }
   ],
   "source": [
    "print(new_df)"
   ]
  },
  {
   "cell_type": "code",
   "execution_count": 76,
   "id": "d8d7ea45",
   "metadata": {},
   "outputs": [
    {
     "data": {
      "text/html": [
       "<div>\n",
       "<style scoped>\n",
       "    .dataframe tbody tr th:only-of-type {\n",
       "        vertical-align: middle;\n",
       "    }\n",
       "\n",
       "    .dataframe tbody tr th {\n",
       "        vertical-align: top;\n",
       "    }\n",
       "\n",
       "    .dataframe thead th {\n",
       "        text-align: right;\n",
       "    }\n",
       "</style>\n",
       "<table border=\"1\" class=\"dataframe\">\n",
       "  <thead>\n",
       "    <tr style=\"text-align: right;\">\n",
       "      <th></th>\n",
       "      <th>year</th>\n",
       "      <th>km_driven</th>\n",
       "      <th>fuel</th>\n",
       "      <th>seller_type</th>\n",
       "      <th>transmission</th>\n",
       "      <th>owner</th>\n",
       "      <th>brand</th>\n",
       "    </tr>\n",
       "  </thead>\n",
       "  <tbody>\n",
       "    <tr>\n",
       "      <th>0</th>\n",
       "      <td>0.010304</td>\n",
       "      <td>-0.553374</td>\n",
       "      <td>1.0</td>\n",
       "      <td>-1.732051</td>\n",
       "      <td>0.229416</td>\n",
       "      <td>-0.723356</td>\n",
       "      <td>-0.670755</td>\n",
       "    </tr>\n",
       "    <tr>\n",
       "      <th>1</th>\n",
       "      <td>-0.195772</td>\n",
       "      <td>-0.234432</td>\n",
       "      <td>-1.0</td>\n",
       "      <td>0.577350</td>\n",
       "      <td>0.229416</td>\n",
       "      <td>0.534655</td>\n",
       "      <td>2.054187</td>\n",
       "    </tr>\n",
       "    <tr>\n",
       "      <th>2</th>\n",
       "      <td>0.422456</td>\n",
       "      <td>-0.057241</td>\n",
       "      <td>1.0</td>\n",
       "      <td>0.577350</td>\n",
       "      <td>0.229416</td>\n",
       "      <td>-0.723356</td>\n",
       "      <td>-1.718809</td>\n",
       "    </tr>\n",
       "    <tr>\n",
       "      <th>3</th>\n",
       "      <td>1.040684</td>\n",
       "      <td>-0.969772</td>\n",
       "      <td>-1.0</td>\n",
       "      <td>-1.732051</td>\n",
       "      <td>0.229416</td>\n",
       "      <td>-0.723356</td>\n",
       "      <td>0.167689</td>\n",
       "    </tr>\n",
       "    <tr>\n",
       "      <th>4</th>\n",
       "      <td>-0.401848</td>\n",
       "      <td>0.474330</td>\n",
       "      <td>-1.0</td>\n",
       "      <td>0.577350</td>\n",
       "      <td>0.229416</td>\n",
       "      <td>1.792666</td>\n",
       "      <td>1.634965</td>\n",
       "    </tr>\n",
       "  </tbody>\n",
       "</table>\n",
       "</div>"
      ],
      "text/plain": [
       "       year  km_driven  fuel  seller_type  transmission     owner     brand\n",
       "0  0.010304  -0.553374   1.0    -1.732051      0.229416 -0.723356 -0.670755\n",
       "1 -0.195772  -0.234432  -1.0     0.577350      0.229416  0.534655  2.054187\n",
       "2  0.422456  -0.057241   1.0     0.577350      0.229416 -0.723356 -1.718809\n",
       "3  1.040684  -0.969772  -1.0    -1.732051      0.229416 -0.723356  0.167689\n",
       "4 -0.401848   0.474330  -1.0     0.577350      0.229416  1.792666  1.634965"
      ]
     },
     "execution_count": 76,
     "metadata": {},
     "output_type": "execute_result"
    }
   ],
   "source": [
    "new_df = pd.DataFrame(data=new_df, columns=new_df2.columns)\n",
    "new_df.head()"
   ]
  },
  {
   "cell_type": "code",
   "execution_count": 77,
   "id": "3222b30b",
   "metadata": {},
   "outputs": [
    {
     "name": "stderr",
     "output_type": "stream",
     "text": [
      "C:\\Users\\DELL\\anaconda3\\lib\\site-packages\\sklearn\\base.py:443: UserWarning: X has feature names, but GradientBoostingRegressor was fitted without feature names\n",
      "  warnings.warn(\n"
     ]
    }
   ],
   "source": [
    "predictions = loaded_model.predict(new_df)"
   ]
  },
  {
   "cell_type": "code",
   "execution_count": 78,
   "id": "82659cb5",
   "metadata": {},
   "outputs": [
    {
     "data": {
      "text/html": [
       "<div>\n",
       "<style scoped>\n",
       "    .dataframe tbody tr th:only-of-type {\n",
       "        vertical-align: middle;\n",
       "    }\n",
       "\n",
       "    .dataframe tbody tr th {\n",
       "        vertical-align: top;\n",
       "    }\n",
       "\n",
       "    .dataframe thead th {\n",
       "        text-align: right;\n",
       "    }\n",
       "</style>\n",
       "<table border=\"1\" class=\"dataframe\">\n",
       "  <thead>\n",
       "    <tr style=\"text-align: right;\">\n",
       "      <th></th>\n",
       "      <th>year</th>\n",
       "      <th>km_driven</th>\n",
       "      <th>fuel</th>\n",
       "      <th>seller_type</th>\n",
       "      <th>transmission</th>\n",
       "      <th>owner</th>\n",
       "      <th>brand</th>\n",
       "      <th>Predicted_SP</th>\n",
       "    </tr>\n",
       "  </thead>\n",
       "  <tbody>\n",
       "    <tr>\n",
       "      <th>0</th>\n",
       "      <td>0.010304</td>\n",
       "      <td>-0.553374</td>\n",
       "      <td>1.0</td>\n",
       "      <td>-1.732051</td>\n",
       "      <td>0.229416</td>\n",
       "      <td>-0.723356</td>\n",
       "      <td>-0.670755</td>\n",
       "      <td>368685.925768</td>\n",
       "    </tr>\n",
       "    <tr>\n",
       "      <th>1</th>\n",
       "      <td>-0.195772</td>\n",
       "      <td>-0.234432</td>\n",
       "      <td>-1.0</td>\n",
       "      <td>0.577350</td>\n",
       "      <td>0.229416</td>\n",
       "      <td>0.534655</td>\n",
       "      <td>2.054187</td>\n",
       "      <td>245356.602378</td>\n",
       "    </tr>\n",
       "    <tr>\n",
       "      <th>2</th>\n",
       "      <td>0.422456</td>\n",
       "      <td>-0.057241</td>\n",
       "      <td>1.0</td>\n",
       "      <td>0.577350</td>\n",
       "      <td>0.229416</td>\n",
       "      <td>-0.723356</td>\n",
       "      <td>-1.718809</td>\n",
       "      <td>253542.406564</td>\n",
       "    </tr>\n",
       "    <tr>\n",
       "      <th>3</th>\n",
       "      <td>1.040684</td>\n",
       "      <td>-0.969772</td>\n",
       "      <td>-1.0</td>\n",
       "      <td>-1.732051</td>\n",
       "      <td>0.229416</td>\n",
       "      <td>-0.723356</td>\n",
       "      <td>0.167689</td>\n",
       "      <td>669724.316608</td>\n",
       "    </tr>\n",
       "    <tr>\n",
       "      <th>4</th>\n",
       "      <td>-0.401848</td>\n",
       "      <td>0.474330</td>\n",
       "      <td>-1.0</td>\n",
       "      <td>0.577350</td>\n",
       "      <td>0.229416</td>\n",
       "      <td>1.792666</td>\n",
       "      <td>1.634965</td>\n",
       "      <td>147683.128853</td>\n",
       "    </tr>\n",
       "    <tr>\n",
       "      <th>5</th>\n",
       "      <td>1.246760</td>\n",
       "      <td>-0.436429</td>\n",
       "      <td>1.0</td>\n",
       "      <td>-1.732051</td>\n",
       "      <td>0.229416</td>\n",
       "      <td>-0.723356</td>\n",
       "      <td>-0.461144</td>\n",
       "      <td>589681.457559</td>\n",
       "    </tr>\n",
       "    <tr>\n",
       "      <th>6</th>\n",
       "      <td>-0.401848</td>\n",
       "      <td>-0.411622</td>\n",
       "      <td>-1.0</td>\n",
       "      <td>0.577350</td>\n",
       "      <td>0.229416</td>\n",
       "      <td>-0.723356</td>\n",
       "      <td>-0.041922</td>\n",
       "      <td>355511.924034</td>\n",
       "    </tr>\n",
       "    <tr>\n",
       "      <th>7</th>\n",
       "      <td>-0.607924</td>\n",
       "      <td>0.474330</td>\n",
       "      <td>-1.0</td>\n",
       "      <td>0.577350</td>\n",
       "      <td>0.229416</td>\n",
       "      <td>1.792666</td>\n",
       "      <td>-0.670755</td>\n",
       "      <td>298305.495337</td>\n",
       "    </tr>\n",
       "    <tr>\n",
       "      <th>8</th>\n",
       "      <td>-0.607924</td>\n",
       "      <td>0.828710</td>\n",
       "      <td>-1.0</td>\n",
       "      <td>0.577350</td>\n",
       "      <td>0.229416</td>\n",
       "      <td>0.534655</td>\n",
       "      <td>0.167689</td>\n",
       "      <td>414362.290640</td>\n",
       "    </tr>\n",
       "    <tr>\n",
       "      <th>9</th>\n",
       "      <td>-1.432229</td>\n",
       "      <td>0.119949</td>\n",
       "      <td>1.0</td>\n",
       "      <td>0.577350</td>\n",
       "      <td>0.229416</td>\n",
       "      <td>1.792666</td>\n",
       "      <td>-0.251533</td>\n",
       "      <td>187432.889920</td>\n",
       "    </tr>\n",
       "    <tr>\n",
       "      <th>10</th>\n",
       "      <td>0.010304</td>\n",
       "      <td>-0.517936</td>\n",
       "      <td>1.0</td>\n",
       "      <td>0.577350</td>\n",
       "      <td>0.229416</td>\n",
       "      <td>-0.723356</td>\n",
       "      <td>-0.251533</td>\n",
       "      <td>383809.021982</td>\n",
       "    </tr>\n",
       "    <tr>\n",
       "      <th>11</th>\n",
       "      <td>0.010304</td>\n",
       "      <td>-0.057241</td>\n",
       "      <td>-1.0</td>\n",
       "      <td>0.577350</td>\n",
       "      <td>0.229416</td>\n",
       "      <td>-0.723356</td>\n",
       "      <td>1.844576</td>\n",
       "      <td>758613.866136</td>\n",
       "    </tr>\n",
       "    <tr>\n",
       "      <th>12</th>\n",
       "      <td>1.040684</td>\n",
       "      <td>-0.588812</td>\n",
       "      <td>-1.0</td>\n",
       "      <td>0.577350</td>\n",
       "      <td>0.229416</td>\n",
       "      <td>-0.723356</td>\n",
       "      <td>-0.670755</td>\n",
       "      <td>821897.481530</td>\n",
       "    </tr>\n",
       "    <tr>\n",
       "      <th>13</th>\n",
       "      <td>-0.195772</td>\n",
       "      <td>0.297139</td>\n",
       "      <td>1.0</td>\n",
       "      <td>0.577350</td>\n",
       "      <td>0.229416</td>\n",
       "      <td>0.534655</td>\n",
       "      <td>-1.718809</td>\n",
       "      <td>258839.501222</td>\n",
       "    </tr>\n",
       "    <tr>\n",
       "      <th>14</th>\n",
       "      <td>1.452836</td>\n",
       "      <td>-0.588812</td>\n",
       "      <td>1.0</td>\n",
       "      <td>0.577350</td>\n",
       "      <td>0.229416</td>\n",
       "      <td>-0.723356</td>\n",
       "      <td>1.215743</td>\n",
       "      <td>351381.337538</td>\n",
       "    </tr>\n",
       "    <tr>\n",
       "      <th>15</th>\n",
       "      <td>0.628532</td>\n",
       "      <td>1.289405</td>\n",
       "      <td>-1.0</td>\n",
       "      <td>-1.732051</td>\n",
       "      <td>0.229416</td>\n",
       "      <td>-0.723356</td>\n",
       "      <td>-0.670755</td>\n",
       "      <td>629468.466744</td>\n",
       "    </tr>\n",
       "    <tr>\n",
       "      <th>16</th>\n",
       "      <td>1.040684</td>\n",
       "      <td>-1.111347</td>\n",
       "      <td>1.0</td>\n",
       "      <td>-1.732051</td>\n",
       "      <td>-4.358899</td>\n",
       "      <td>-0.723356</td>\n",
       "      <td>-0.251533</td>\n",
       "      <td>575312.237831</td>\n",
       "    </tr>\n",
       "    <tr>\n",
       "      <th>17</th>\n",
       "      <td>0.628532</td>\n",
       "      <td>-0.854598</td>\n",
       "      <td>1.0</td>\n",
       "      <td>0.577350</td>\n",
       "      <td>0.229416</td>\n",
       "      <td>-0.723356</td>\n",
       "      <td>0.167689</td>\n",
       "      <td>542352.258761</td>\n",
       "    </tr>\n",
       "    <tr>\n",
       "      <th>18</th>\n",
       "      <td>-0.814001</td>\n",
       "      <td>3.486565</td>\n",
       "      <td>-1.0</td>\n",
       "      <td>0.577350</td>\n",
       "      <td>0.229416</td>\n",
       "      <td>1.792666</td>\n",
       "      <td>-0.041922</td>\n",
       "      <td>235971.302531</td>\n",
       "    </tr>\n",
       "    <tr>\n",
       "      <th>19</th>\n",
       "      <td>-2.874761</td>\n",
       "      <td>-0.588812</td>\n",
       "      <td>1.0</td>\n",
       "      <td>0.577350</td>\n",
       "      <td>0.229416</td>\n",
       "      <td>-0.094351</td>\n",
       "      <td>0.167689</td>\n",
       "      <td>442499.849092</td>\n",
       "    </tr>\n",
       "  </tbody>\n",
       "</table>\n",
       "</div>"
      ],
      "text/plain": [
       "        year  km_driven  fuel  seller_type  transmission     owner     brand  \\\n",
       "0   0.010304  -0.553374   1.0    -1.732051      0.229416 -0.723356 -0.670755   \n",
       "1  -0.195772  -0.234432  -1.0     0.577350      0.229416  0.534655  2.054187   \n",
       "2   0.422456  -0.057241   1.0     0.577350      0.229416 -0.723356 -1.718809   \n",
       "3   1.040684  -0.969772  -1.0    -1.732051      0.229416 -0.723356  0.167689   \n",
       "4  -0.401848   0.474330  -1.0     0.577350      0.229416  1.792666  1.634965   \n",
       "5   1.246760  -0.436429   1.0    -1.732051      0.229416 -0.723356 -0.461144   \n",
       "6  -0.401848  -0.411622  -1.0     0.577350      0.229416 -0.723356 -0.041922   \n",
       "7  -0.607924   0.474330  -1.0     0.577350      0.229416  1.792666 -0.670755   \n",
       "8  -0.607924   0.828710  -1.0     0.577350      0.229416  0.534655  0.167689   \n",
       "9  -1.432229   0.119949   1.0     0.577350      0.229416  1.792666 -0.251533   \n",
       "10  0.010304  -0.517936   1.0     0.577350      0.229416 -0.723356 -0.251533   \n",
       "11  0.010304  -0.057241  -1.0     0.577350      0.229416 -0.723356  1.844576   \n",
       "12  1.040684  -0.588812  -1.0     0.577350      0.229416 -0.723356 -0.670755   \n",
       "13 -0.195772   0.297139   1.0     0.577350      0.229416  0.534655 -1.718809   \n",
       "14  1.452836  -0.588812   1.0     0.577350      0.229416 -0.723356  1.215743   \n",
       "15  0.628532   1.289405  -1.0    -1.732051      0.229416 -0.723356 -0.670755   \n",
       "16  1.040684  -1.111347   1.0    -1.732051     -4.358899 -0.723356 -0.251533   \n",
       "17  0.628532  -0.854598   1.0     0.577350      0.229416 -0.723356  0.167689   \n",
       "18 -0.814001   3.486565  -1.0     0.577350      0.229416  1.792666 -0.041922   \n",
       "19 -2.874761  -0.588812   1.0     0.577350      0.229416 -0.094351  0.167689   \n",
       "\n",
       "     Predicted_SP  \n",
       "0   368685.925768  \n",
       "1   245356.602378  \n",
       "2   253542.406564  \n",
       "3   669724.316608  \n",
       "4   147683.128853  \n",
       "5   589681.457559  \n",
       "6   355511.924034  \n",
       "7   298305.495337  \n",
       "8   414362.290640  \n",
       "9   187432.889920  \n",
       "10  383809.021982  \n",
       "11  758613.866136  \n",
       "12  821897.481530  \n",
       "13  258839.501222  \n",
       "14  351381.337538  \n",
       "15  629468.466744  \n",
       "16  575312.237831  \n",
       "17  542352.258761  \n",
       "18  235971.302531  \n",
       "19  442499.849092  "
      ]
     },
     "execution_count": 78,
     "metadata": {},
     "output_type": "execute_result"
    }
   ],
   "source": [
    "new_df['Predicted_SP']= predictions\n",
    "new_df"
   ]
  },
  {
   "cell_type": "markdown",
   "id": "41d9a113",
   "metadata": {},
   "source": [
    "### Comparing the Actual Price with Predicted Price"
   ]
  },
  {
   "cell_type": "code",
   "execution_count": 79,
   "id": "a49139ed",
   "metadata": {},
   "outputs": [],
   "source": [
    "new_df1['Predicted_SP'] = predictions"
   ]
  },
  {
   "cell_type": "code",
   "execution_count": 80,
   "id": "84b38ac3",
   "metadata": {},
   "outputs": [
    {
     "data": {
      "text/html": [
       "<div>\n",
       "<style scoped>\n",
       "    .dataframe tbody tr th:only-of-type {\n",
       "        vertical-align: middle;\n",
       "    }\n",
       "\n",
       "    .dataframe tbody tr th {\n",
       "        vertical-align: top;\n",
       "    }\n",
       "\n",
       "    .dataframe thead th {\n",
       "        text-align: right;\n",
       "    }\n",
       "</style>\n",
       "<table border=\"1\" class=\"dataframe\">\n",
       "  <thead>\n",
       "    <tr style=\"text-align: right;\">\n",
       "      <th></th>\n",
       "      <th>year</th>\n",
       "      <th>selling_price</th>\n",
       "      <th>km_driven</th>\n",
       "      <th>fuel</th>\n",
       "      <th>seller_type</th>\n",
       "      <th>transmission</th>\n",
       "      <th>owner</th>\n",
       "      <th>brand</th>\n",
       "      <th>Predicted_SP</th>\n",
       "    </tr>\n",
       "  </thead>\n",
       "  <tbody>\n",
       "    <tr>\n",
       "      <th>2886</th>\n",
       "      <td>2012</td>\n",
       "      <td>260000</td>\n",
       "      <td>42000</td>\n",
       "      <td>4</td>\n",
       "      <td>0</td>\n",
       "      <td>1</td>\n",
       "      <td>0</td>\n",
       "      <td>8</td>\n",
       "      <td>368685.925768</td>\n",
       "    </tr>\n",
       "    <tr>\n",
       "      <th>1569</th>\n",
       "      <td>2011</td>\n",
       "      <td>290000</td>\n",
       "      <td>60000</td>\n",
       "      <td>1</td>\n",
       "      <td>1</td>\n",
       "      <td>1</td>\n",
       "      <td>2</td>\n",
       "      <td>21</td>\n",
       "      <td>245356.602378</td>\n",
       "    </tr>\n",
       "    <tr>\n",
       "      <th>2075</th>\n",
       "      <td>2014</td>\n",
       "      <td>220000</td>\n",
       "      <td>70000</td>\n",
       "      <td>4</td>\n",
       "      <td>1</td>\n",
       "      <td>1</td>\n",
       "      <td>0</td>\n",
       "      <td>3</td>\n",
       "      <td>253542.406564</td>\n",
       "    </tr>\n",
       "    <tr>\n",
       "      <th>54</th>\n",
       "      <td>2017</td>\n",
       "      <td>725000</td>\n",
       "      <td>18500</td>\n",
       "      <td>1</td>\n",
       "      <td>0</td>\n",
       "      <td>1</td>\n",
       "      <td>0</td>\n",
       "      <td>12</td>\n",
       "      <td>669724.316608</td>\n",
       "    </tr>\n",
       "    <tr>\n",
       "      <th>4233</th>\n",
       "      <td>2010</td>\n",
       "      <td>75000</td>\n",
       "      <td>100000</td>\n",
       "      <td>1</td>\n",
       "      <td>1</td>\n",
       "      <td>1</td>\n",
       "      <td>4</td>\n",
       "      <td>19</td>\n",
       "      <td>147683.128853</td>\n",
       "    </tr>\n",
       "    <tr>\n",
       "      <th>2329</th>\n",
       "      <td>2018</td>\n",
       "      <td>680000</td>\n",
       "      <td>48600</td>\n",
       "      <td>4</td>\n",
       "      <td>0</td>\n",
       "      <td>1</td>\n",
       "      <td>0</td>\n",
       "      <td>9</td>\n",
       "      <td>589681.457559</td>\n",
       "    </tr>\n",
       "    <tr>\n",
       "      <th>395</th>\n",
       "      <td>2010</td>\n",
       "      <td>400000</td>\n",
       "      <td>50000</td>\n",
       "      <td>1</td>\n",
       "      <td>1</td>\n",
       "      <td>1</td>\n",
       "      <td>0</td>\n",
       "      <td>11</td>\n",
       "      <td>355511.924034</td>\n",
       "    </tr>\n",
       "    <tr>\n",
       "      <th>3062</th>\n",
       "      <td>2009</td>\n",
       "      <td>130000</td>\n",
       "      <td>100000</td>\n",
       "      <td>1</td>\n",
       "      <td>1</td>\n",
       "      <td>1</td>\n",
       "      <td>4</td>\n",
       "      <td>8</td>\n",
       "      <td>298305.495337</td>\n",
       "    </tr>\n",
       "    <tr>\n",
       "      <th>3603</th>\n",
       "      <td>2009</td>\n",
       "      <td>270000</td>\n",
       "      <td>120000</td>\n",
       "      <td>1</td>\n",
       "      <td>1</td>\n",
       "      <td>1</td>\n",
       "      <td>2</td>\n",
       "      <td>12</td>\n",
       "      <td>414362.290640</td>\n",
       "    </tr>\n",
       "    <tr>\n",
       "      <th>2873</th>\n",
       "      <td>2005</td>\n",
       "      <td>140000</td>\n",
       "      <td>80000</td>\n",
       "      <td>4</td>\n",
       "      <td>1</td>\n",
       "      <td>1</td>\n",
       "      <td>4</td>\n",
       "      <td>10</td>\n",
       "      <td>187432.889920</td>\n",
       "    </tr>\n",
       "    <tr>\n",
       "      <th>3640</th>\n",
       "      <td>2012</td>\n",
       "      <td>330000</td>\n",
       "      <td>44000</td>\n",
       "      <td>4</td>\n",
       "      <td>1</td>\n",
       "      <td>1</td>\n",
       "      <td>0</td>\n",
       "      <td>10</td>\n",
       "      <td>383809.021982</td>\n",
       "    </tr>\n",
       "    <tr>\n",
       "      <th>1421</th>\n",
       "      <td>2012</td>\n",
       "      <td>287000</td>\n",
       "      <td>70000</td>\n",
       "      <td>1</td>\n",
       "      <td>1</td>\n",
       "      <td>1</td>\n",
       "      <td>0</td>\n",
       "      <td>20</td>\n",
       "      <td>758613.866136</td>\n",
       "    </tr>\n",
       "    <tr>\n",
       "      <th>3625</th>\n",
       "      <td>2017</td>\n",
       "      <td>710000</td>\n",
       "      <td>40000</td>\n",
       "      <td>1</td>\n",
       "      <td>1</td>\n",
       "      <td>1</td>\n",
       "      <td>0</td>\n",
       "      <td>8</td>\n",
       "      <td>821897.481530</td>\n",
       "    </tr>\n",
       "    <tr>\n",
       "      <th>171</th>\n",
       "      <td>2011</td>\n",
       "      <td>120000</td>\n",
       "      <td>90000</td>\n",
       "      <td>4</td>\n",
       "      <td>1</td>\n",
       "      <td>1</td>\n",
       "      <td>2</td>\n",
       "      <td>3</td>\n",
       "      <td>258839.501222</td>\n",
       "    </tr>\n",
       "    <tr>\n",
       "      <th>2432</th>\n",
       "      <td>2019</td>\n",
       "      <td>265000</td>\n",
       "      <td>40000</td>\n",
       "      <td>4</td>\n",
       "      <td>1</td>\n",
       "      <td>1</td>\n",
       "      <td>0</td>\n",
       "      <td>17</td>\n",
       "      <td>351381.337538</td>\n",
       "    </tr>\n",
       "    <tr>\n",
       "      <th>3529</th>\n",
       "      <td>2015</td>\n",
       "      <td>470000</td>\n",
       "      <td>146000</td>\n",
       "      <td>1</td>\n",
       "      <td>0</td>\n",
       "      <td>1</td>\n",
       "      <td>0</td>\n",
       "      <td>8</td>\n",
       "      <td>629468.466744</td>\n",
       "    </tr>\n",
       "    <tr>\n",
       "      <th>906</th>\n",
       "      <td>2017</td>\n",
       "      <td>520000</td>\n",
       "      <td>10510</td>\n",
       "      <td>4</td>\n",
       "      <td>0</td>\n",
       "      <td>0</td>\n",
       "      <td>0</td>\n",
       "      <td>10</td>\n",
       "      <td>575312.237831</td>\n",
       "    </tr>\n",
       "    <tr>\n",
       "      <th>3430</th>\n",
       "      <td>2015</td>\n",
       "      <td>250000</td>\n",
       "      <td>25000</td>\n",
       "      <td>4</td>\n",
       "      <td>1</td>\n",
       "      <td>1</td>\n",
       "      <td>0</td>\n",
       "      <td>12</td>\n",
       "      <td>542352.258761</td>\n",
       "    </tr>\n",
       "    <tr>\n",
       "      <th>2961</th>\n",
       "      <td>2008</td>\n",
       "      <td>300000</td>\n",
       "      <td>270000</td>\n",
       "      <td>1</td>\n",
       "      <td>1</td>\n",
       "      <td>1</td>\n",
       "      <td>4</td>\n",
       "      <td>11</td>\n",
       "      <td>235971.302531</td>\n",
       "    </tr>\n",
       "    <tr>\n",
       "      <th>3237</th>\n",
       "      <td>1998</td>\n",
       "      <td>40000</td>\n",
       "      <td>40000</td>\n",
       "      <td>4</td>\n",
       "      <td>1</td>\n",
       "      <td>1</td>\n",
       "      <td>1</td>\n",
       "      <td>12</td>\n",
       "      <td>442499.849092</td>\n",
       "    </tr>\n",
       "  </tbody>\n",
       "</table>\n",
       "</div>"
      ],
      "text/plain": [
       "      year  selling_price  km_driven  fuel  seller_type  transmission  owner  \\\n",
       "2886  2012         260000      42000     4            0             1      0   \n",
       "1569  2011         290000      60000     1            1             1      2   \n",
       "2075  2014         220000      70000     4            1             1      0   \n",
       "54    2017         725000      18500     1            0             1      0   \n",
       "4233  2010          75000     100000     1            1             1      4   \n",
       "2329  2018         680000      48600     4            0             1      0   \n",
       "395   2010         400000      50000     1            1             1      0   \n",
       "3062  2009         130000     100000     1            1             1      4   \n",
       "3603  2009         270000     120000     1            1             1      2   \n",
       "2873  2005         140000      80000     4            1             1      4   \n",
       "3640  2012         330000      44000     4            1             1      0   \n",
       "1421  2012         287000      70000     1            1             1      0   \n",
       "3625  2017         710000      40000     1            1             1      0   \n",
       "171   2011         120000      90000     4            1             1      2   \n",
       "2432  2019         265000      40000     4            1             1      0   \n",
       "3529  2015         470000     146000     1            0             1      0   \n",
       "906   2017         520000      10510     4            0             0      0   \n",
       "3430  2015         250000      25000     4            1             1      0   \n",
       "2961  2008         300000     270000     1            1             1      4   \n",
       "3237  1998          40000      40000     4            1             1      1   \n",
       "\n",
       "      brand   Predicted_SP  \n",
       "2886      8  368685.925768  \n",
       "1569     21  245356.602378  \n",
       "2075      3  253542.406564  \n",
       "54       12  669724.316608  \n",
       "4233     19  147683.128853  \n",
       "2329      9  589681.457559  \n",
       "395      11  355511.924034  \n",
       "3062      8  298305.495337  \n",
       "3603     12  414362.290640  \n",
       "2873     10  187432.889920  \n",
       "3640     10  383809.021982  \n",
       "1421     20  758613.866136  \n",
       "3625      8  821897.481530  \n",
       "171       3  258839.501222  \n",
       "2432     17  351381.337538  \n",
       "3529      8  629468.466744  \n",
       "906      10  575312.237831  \n",
       "3430     12  542352.258761  \n",
       "2961     11  235971.302531  \n",
       "3237     12  442499.849092  "
      ]
     },
     "execution_count": 80,
     "metadata": {},
     "output_type": "execute_result"
    }
   ],
   "source": [
    "new_df1"
   ]
  },
  {
   "cell_type": "code",
   "execution_count": null,
   "id": "aa3112de",
   "metadata": {},
   "outputs": [],
   "source": []
  },
  {
   "cell_type": "code",
   "execution_count": null,
   "id": "d1bb21ea",
   "metadata": {},
   "outputs": [],
   "source": []
  }
 ],
 "metadata": {
  "kernelspec": {
   "display_name": "Python 3 (ipykernel)",
   "language": "python",
   "name": "python3"
  },
  "language_info": {
   "codemirror_mode": {
    "name": "ipython",
    "version": 3
   },
   "file_extension": ".py",
   "mimetype": "text/x-python",
   "name": "python",
   "nbconvert_exporter": "python",
   "pygments_lexer": "ipython3",
   "version": "3.9.13"
  }
 },
 "nbformat": 4,
 "nbformat_minor": 5
}
